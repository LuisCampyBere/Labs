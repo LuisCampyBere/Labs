{
 "cells": [
  {
   "cell_type": "markdown",
   "id": "a4611232-647f-49a5-afc9-62815fabdc2e",
   "metadata": {},
   "source": [
    "# Data Science Tools and Ecosystem"
   ]
  },
  {
   "attachments": {},
   "cell_type": "markdown",
   "id": "e2dba0d7-6cf9-40c9-af34-a049c99df3ff",
   "metadata": {},
   "source": [
    "En este cuaderno, se resumen las herramientas y ecosistemas de ciencia de datos."
   ]
  },
  {
   "cell_type": "markdown",
   "id": "42318154-603a-4840-a1ee-63bfd8a9bbf6",
   "metadata": {},
   "source": [
    "**Objetivos:**\n",
    "- Listar lenguajes populares para Ciencia de Datos\n",
    "- Listar bibliotecas comúnmente utilizadas para Ciencia de Datos\n",
    "- Identificar herramientas para Ciencia de Datos\n",
    "- Crear expresiones matemáticas en Python"
   ]
  },
  {
   "cell_type": "markdown",
   "id": "f5754829-7fb3-4a2c-9157-2fc9be9b0547",
   "metadata": {},
   "source": [
    "Algunos de los lenguajes populares que utilizan los científicos de datos son:\n",
    "1. Python\n",
    "2. R\n",
    "3. Julia"
   ]
  },
  {
   "cell_type": "markdown",
   "id": "ccd8dac8-8910-4297-8fca-7b3373148c1e",
   "metadata": {},
   "source": [
    "Algunas de las bibliotecas comúnmente utilizadas por los científicos de datos incluyen:\n",
    "1. Pandas\n",
    "2. NumPy\n",
    "3. Scikit-learn\n"
   ]
  },
  {
   "cell_type": "markdown",
   "id": "70b1a894-1079-442f-a058-2afd98325ff1",
   "metadata": {},
   "source": [
    "| Herramientas De Ciencia De Datos |\n",
    "|----------------------------------|\n",
    "| Jupyter Notebook                 |\n",
    "| RStudio                          |\n",
    "| Visual Studio Code               |"
   ]
  },
  {
   "cell_type": "markdown",
   "id": "9ee575bc-c22b-4428-9bc7-b44a0d7b93a5",
   "metadata": {},
   "source": [
    "### A continuación, se presentan algunos ejemplos de evaluación de expresiones aritméticas en Python"
   ]
  },
  {
   "cell_type": "code",
   "execution_count": 14,
   "id": "915df2f1-2995-406d-900e-2bd0f0f75c33",
   "metadata": {},
   "outputs": [
    {
     "data": {
      "text/plain": [
       "17"
      ]
     },
     "execution_count": 14,
     "metadata": {},
     "output_type": "execute_result"
    }
   ],
   "source": [
    "# Esta es una expresión aritmética simple para multiplicar y luego sumar enteros\n",
    "(3*4)+5"
   ]
  },
  {
   "cell_type": "code",
   "execution_count": 15,
   "id": "4dd99986-dd17-4715-94d7-34b54fe1c27c",
   "metadata": {},
   "outputs": [
    {
     "data": {
      "text/plain": [
       "3.3333333333333335"
      ]
     },
     "execution_count": 15,
     "metadata": {},
     "output_type": "execute_result"
    }
   ],
   "source": [
    "# Esto 200 minutos a horas dividiendo por 60\n",
    "200 / 60"
   ]
  },
  {
   "cell_type": "markdown",
   "id": "b97d018d-62ac-4e89-8401-a6bc2cbcd13d",
   "metadata": {},
   "source": [
    "## Autor\n",
    "_Luis Jesús Feddy Campillay Beretta_"
   ]
  }
 ],
 "metadata": {
  "kernelspec": {
   "display_name": "Python 3 (ipykernel)",
   "language": "python",
   "name": "python3"
  },
  "language_info": {
   "codemirror_mode": {
    "name": "ipython",
    "version": 3
   },
   "file_extension": ".py",
   "mimetype": "text/x-python",
   "name": "python",
   "nbconvert_exporter": "python",
   "pygments_lexer": "ipython3",
   "version": "3.12.7"
  }
 },
 "nbformat": 4,
 "nbformat_minor": 5
}
